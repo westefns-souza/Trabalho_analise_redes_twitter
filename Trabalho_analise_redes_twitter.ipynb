{
  "cells": [
    {
      "cell_type": "markdown",
      "metadata": {
        "id": "view-in-github",
        "colab_type": "text"
      },
      "source": [
        "<a href=\"https://colab.research.google.com/github/westefns-souza/Trabalho_analise_redes_twitter/blob/main/Trabalho_analise_redes_twitter.ipynb\" target=\"_parent\"><img src=\"https://colab.research.google.com/assets/colab-badge.svg\" alt=\"Open In Colab\"/></a>"
      ]
    },
    {
      "cell_type": "markdown",
      "source": [
        "# Analise da base de dados do twitter\n",
        "\n",
        "\n",
        "\n",
        "```\n",
        "https://www.kaggle.com/datasets/hwassner/TwitterFriends\n",
        "```\n",
        "\n"
      ],
      "metadata": {
        "id": "RxfZVGK5xaRP"
      }
    },
    {
      "cell_type": "code",
      "execution_count": null,
      "metadata": {
        "id": "egbaf6W3Ph62",
        "colab": {
          "base_uri": "https://localhost:8080/"
        },
        "outputId": "24042538-9a47-48fe-85aa-c70520d24450"
      },
      "outputs": [
        {
          "output_type": "stream",
          "name": "stdout",
          "text": [
            "Looking in indexes: https://pypi.org/simple, https://us-python.pkg.dev/colab-wheels/public/simple/\n",
            "Collecting pyvis\n",
            "  Downloading pyvis-0.3.2-py3-none-any.whl (756 kB)\n",
            "\u001b[2K     \u001b[90m━━━━━━━━━━━━━━━━━━━━━━━━━━━━━━━━━━━━━━\u001b[0m \u001b[32m756.0/756.0 kB\u001b[0m \u001b[31m25.1 MB/s\u001b[0m eta \u001b[36m0:00:00\u001b[0m\n",
            "\u001b[?25hRequirement already satisfied: ipython>=5.3.0 in /usr/local/lib/python3.10/dist-packages (from pyvis) (7.34.0)\n",
            "Requirement already satisfied: jinja2>=2.9.6 in /usr/local/lib/python3.10/dist-packages (from pyvis) (3.1.2)\n",
            "Requirement already satisfied: jsonpickle>=1.4.1 in /usr/local/lib/python3.10/dist-packages (from pyvis) (3.0.1)\n",
            "Requirement already satisfied: networkx>=1.11 in /usr/local/lib/python3.10/dist-packages (from pyvis) (3.1)\n",
            "Requirement already satisfied: setuptools>=18.5 in /usr/local/lib/python3.10/dist-packages (from ipython>=5.3.0->pyvis) (67.7.2)\n",
            "Collecting jedi>=0.16 (from ipython>=5.3.0->pyvis)\n",
            "  Downloading jedi-0.18.2-py2.py3-none-any.whl (1.6 MB)\n",
            "\u001b[2K     \u001b[90m━━━━━━━━━━━━━━━━━━━━━━━━━━━━━━━━━━━━━━━━\u001b[0m \u001b[32m1.6/1.6 MB\u001b[0m \u001b[31m71.2 MB/s\u001b[0m eta \u001b[36m0:00:00\u001b[0m\n",
            "\u001b[?25hRequirement already satisfied: decorator in /usr/local/lib/python3.10/dist-packages (from ipython>=5.3.0->pyvis) (4.4.2)\n",
            "Requirement already satisfied: pickleshare in /usr/local/lib/python3.10/dist-packages (from ipython>=5.3.0->pyvis) (0.7.5)\n",
            "Requirement already satisfied: traitlets>=4.2 in /usr/local/lib/python3.10/dist-packages (from ipython>=5.3.0->pyvis) (5.7.1)\n",
            "Requirement already satisfied: prompt-toolkit!=3.0.0,!=3.0.1,<3.1.0,>=2.0.0 in /usr/local/lib/python3.10/dist-packages (from ipython>=5.3.0->pyvis) (3.0.38)\n",
            "Requirement already satisfied: pygments in /usr/local/lib/python3.10/dist-packages (from ipython>=5.3.0->pyvis) (2.14.0)\n",
            "Requirement already satisfied: backcall in /usr/local/lib/python3.10/dist-packages (from ipython>=5.3.0->pyvis) (0.2.0)\n",
            "Requirement already satisfied: matplotlib-inline in /usr/local/lib/python3.10/dist-packages (from ipython>=5.3.0->pyvis) (0.1.6)\n",
            "Requirement already satisfied: pexpect>4.3 in /usr/local/lib/python3.10/dist-packages (from ipython>=5.3.0->pyvis) (4.8.0)\n",
            "Requirement already satisfied: MarkupSafe>=2.0 in /usr/local/lib/python3.10/dist-packages (from jinja2>=2.9.6->pyvis) (2.1.3)\n",
            "Requirement already satisfied: parso<0.9.0,>=0.8.0 in /usr/local/lib/python3.10/dist-packages (from jedi>=0.16->ipython>=5.3.0->pyvis) (0.8.3)\n",
            "Requirement already satisfied: ptyprocess>=0.5 in /usr/local/lib/python3.10/dist-packages (from pexpect>4.3->ipython>=5.3.0->pyvis) (0.7.0)\n",
            "Requirement already satisfied: wcwidth in /usr/local/lib/python3.10/dist-packages (from prompt-toolkit!=3.0.0,!=3.0.1,<3.1.0,>=2.0.0->ipython>=5.3.0->pyvis) (0.2.6)\n",
            "Installing collected packages: jedi, pyvis\n",
            "Successfully installed jedi-0.18.2 pyvis-0.3.2\n"
          ]
        }
      ],
      "source": [
        "!pip install pyvis"
      ]
    },
    {
      "cell_type": "code",
      "execution_count": null,
      "metadata": {
        "id": "crtAHFjBPviD"
      },
      "outputs": [],
      "source": [
        "import re\n",
        "import pandas as pd\n",
        "import networkx as nx\n",
        "from pyvis.network import Network\n",
        "from IPython.core.display import display, HTML\n",
        "import matplotlib.pyplot as plt\n",
        "import csv"
      ]
    },
    {
      "cell_type": "markdown",
      "source": [
        "# Limpando a base\n",
        "Como a base não tinha um csv bom, tive que limpar principalmente a coluna 'friends' que estava como um array separado por vírgula, com isso a leitura quebrava no momento de abrir e ler os dados com o pandas.\n",
        "\n",
        "Achei Uma função de substituir_virgulas usando regex para identicar apenas as frases dentro de um array [ ]."
      ],
      "metadata": {
        "id": "Ieq6LqDeyAyr"
      }
    },
    {
      "cell_type": "code",
      "execution_count": null,
      "metadata": {
        "id": "N2tMJjuqVctw"
      },
      "outputs": [],
      "source": [
        "def substituir_virgulas(texto):\n",
        "    padrao = r'\\[(.*?)\\]'  # padrão para encontrar o texto entre colchetes\n",
        "    matches = re.findall(padrao, texto)  # encontrar todas as ocorrências entre colchetes\n",
        "    for match in matches:\n",
        "        novo_texto = match.replace(',', ';')  # substituir vírgulas por ponto-e-vírgula\n",
        "        texto = texto.replace(match, novo_texto)  # substituir a ocorrência original pelo novo texto\n",
        "    return texto"
      ]
    },
    {
      "cell_type": "markdown",
      "source": [
        "## Criando um novo arquivo já corrigido\n",
        "\n",
        "Para que não precise trabalhar com os dados em memória sempre"
      ],
      "metadata": {
        "id": "CRiR-uOSyoEh"
      }
    },
    {
      "cell_type": "code",
      "execution_count": null,
      "metadata": {
        "id": "yDAo4mc3TVVP",
        "outputId": "a6078752-5554-4ee8-c464-0b963c01089a",
        "colab": {
          "base_uri": "https://localhost:8080/",
          "height": 218
        }
      },
      "outputs": [
        {
          "output_type": "error",
          "ename": "FileNotFoundError",
          "evalue": "ignored",
          "traceback": [
            "\u001b[0;31m---------------------------------------------------------------------------\u001b[0m",
            "\u001b[0;31mFileNotFoundError\u001b[0m                         Traceback (most recent call last)",
            "\u001b[0;32m<ipython-input-2-a46233e91dd8>\u001b[0m in \u001b[0;36m<cell line: 1>\u001b[0;34m()\u001b[0m\n\u001b[0;32m----> 1\u001b[0;31m \u001b[0;32mwith\u001b[0m \u001b[0mopen\u001b[0m\u001b[0;34m(\u001b[0m\u001b[0;34m\"/content/data_twitter.csv\"\u001b[0m\u001b[0;34m)\u001b[0m \u001b[0;32mas\u001b[0m \u001b[0mfile\u001b[0m\u001b[0;34m:\u001b[0m\u001b[0;34m\u001b[0m\u001b[0;34m\u001b[0m\u001b[0m\n\u001b[0m\u001b[1;32m      2\u001b[0m   \u001b[0;32mwith\u001b[0m \u001b[0mopen\u001b[0m\u001b[0;34m(\u001b[0m\u001b[0;34m\"/content/data_twitter_formated.csv\"\u001b[0m\u001b[0;34m,\u001b[0m \u001b[0;34m\"w\"\u001b[0m\u001b[0;34m)\u001b[0m \u001b[0;32mas\u001b[0m \u001b[0mnew_file\u001b[0m\u001b[0;34m:\u001b[0m\u001b[0;34m\u001b[0m\u001b[0;34m\u001b[0m\u001b[0m\n\u001b[1;32m      3\u001b[0m       \u001b[0;32mfor\u001b[0m \u001b[0mline\u001b[0m \u001b[0;32min\u001b[0m \u001b[0mfile\u001b[0m\u001b[0;34m:\u001b[0m\u001b[0;34m\u001b[0m\u001b[0;34m\u001b[0m\u001b[0m\n\u001b[1;32m      4\u001b[0m         \u001b[0mnew_file\u001b[0m\u001b[0;34m.\u001b[0m\u001b[0mwrite\u001b[0m\u001b[0;34m(\u001b[0m\u001b[0msubstituir_virgulas\u001b[0m\u001b[0;34m(\u001b[0m\u001b[0mline\u001b[0m\u001b[0;34m)\u001b[0m\u001b[0;34m)\u001b[0m\u001b[0;34m\u001b[0m\u001b[0;34m\u001b[0m\u001b[0m\n",
            "\u001b[0;31mFileNotFoundError\u001b[0m: [Errno 2] No such file or directory: '/content/data_twitter.csv'"
          ]
        }
      ],
      "source": [
        "with open(\"/content/data_twitter.csv\") as file:\n",
        "  with open(\"/content/data_twitter_formated.csv\", \"w\") as new_file:\n",
        "      for line in file:\n",
        "        new_file.write(substituir_virgulas(line))"
      ]
    },
    {
      "cell_type": "markdown",
      "source": [
        "Carregando os dados do arquivo formatado para um DateFrame"
      ],
      "metadata": {
        "id": "Cm4VdyXsy3d0"
      }
    },
    {
      "cell_type": "code",
      "execution_count": null,
      "metadata": {
        "id": "kjL3G-DxP5gt"
      },
      "outputs": [],
      "source": [
        "df = pd.read_csv('/content/data_twitter_formated.csv', on_bad_lines=\"skip\")\n",
        "df"
      ]
    },
    {
      "cell_type": "markdown",
      "source": [
        "Selecionando apenas as linhas que estou utilizando"
      ],
      "metadata": {
        "id": "Z51fvAeYy9kr"
      }
    },
    {
      "cell_type": "code",
      "execution_count": null,
      "metadata": {
        "id": "4JD0HyYoQn6e"
      },
      "outputs": [],
      "source": [
        "df_reduced = df[['id', 'friends']]\n",
        "df_reduced"
      ]
    },
    {
      "cell_type": "markdown",
      "source": [
        "Separando as edges juntamente com os nós, foi necessário porque o coluna de friends se torna uma lista"
      ],
      "metadata": {
        "id": "0jJapLgozFW4"
      }
    },
    {
      "cell_type": "code",
      "execution_count": null,
      "metadata": {
        "id": "YHfEN-K_c_-Q"
      },
      "outputs": [],
      "source": [
        "nodes = []\n",
        "edges = []"
      ]
    },
    {
      "cell_type": "code",
      "execution_count": null,
      "metadata": {
        "id": "p9xeGA4WaIYb"
      },
      "outputs": [],
      "source": [
        "for line in df_reduced.values.tolist():\n",
        "  userId = int(line[0])\n",
        "  nodes.append(userId)\n",
        "\n",
        "  friends = line[1].replace('[', '').replace('; ]', '').replace(']', '').replace('\"', '').split(';')\n",
        "\n",
        "  for friend in friends:\n",
        "    friend = friend.strip()\n",
        "    if friend != '':\n",
        "      friend = int(friend)\n",
        "      nodes.append(friend)\n",
        "      edges.append([userId, friend])"
      ]
    },
    {
      "cell_type": "markdown",
      "source": [
        "Criando um arquvivo apenas com os nós para usar depois sem precisar dos passos acima"
      ],
      "metadata": {
        "id": "PC7JRFozzaKL"
      }
    },
    {
      "cell_type": "code",
      "source": [
        "with open('base_reduzida.csv', 'w', newline='') as csvfile:\n",
        "    fieldnames = ['userId', 'friendId']\n",
        "    writer = csv.DictWriter(csvfile, fieldnames)\n",
        "\n",
        "    writer.writeheader()\n",
        "    for linha in edges:\n",
        "      writer.writerow({'userId': linha[0], 'friendId': linha[1]})"
      ],
      "metadata": {
        "id": "SFODFJ4tF934"
      },
      "execution_count": null,
      "outputs": []
    },
    {
      "cell_type": "markdown",
      "source": [
        "# Usando apartir da base reduzida para analizar os dados"
      ],
      "metadata": {
        "id": "KN_zee0KHrsq"
      }
    },
    {
      "cell_type": "code",
      "source": [
        "df_base_reduzida = pd.read_csv('/content/base_reduzida.csv', on_bad_lines=\"skip\")"
      ],
      "metadata": {
        "id": "lgjlIM_VHvW_"
      },
      "execution_count": null,
      "outputs": []
    },
    {
      "cell_type": "code",
      "source": [
        "import random\n",
        "\n",
        "def reduzir_base_amostragem_aleatoria(dados, tamanho_amostra):\n",
        "    amostra = random.sample(dados, tamanho_amostra)\n",
        "    return amostra\n",
        "\n",
        "# Exemplo de uso\n",
        "amostra_reduzida = reduzir_base_amostragem_aleatoria(df_base_reduzida.values.tolist(), 50000)\n",
        "amostra_reduzida"
      ],
      "metadata": {
        "id": "pl5eu3xc_inZ"
      },
      "execution_count": null,
      "outputs": []
    },
    {
      "cell_type": "code",
      "source": [
        "len(amostra_reduzida)"
      ],
      "metadata": {
        "id": "G6LuO2HI_zgO"
      },
      "execution_count": null,
      "outputs": []
    },
    {
      "cell_type": "markdown",
      "source": [
        "## Criando o Grafico com NetworkX"
      ],
      "metadata": {
        "id": "Zhiu8-XixM9F"
      }
    },
    {
      "cell_type": "code",
      "source": [
        "G = nx.Graph()\n",
        "\n",
        "for line in df_base_reduzida.values.tolist():\n",
        "#for line in amostra_reduzida:\n",
        "  G.add_nodes_from(line)\n",
        "  G.add_edges_from([(line[0], line[1])])"
      ],
      "metadata": {
        "id": "hAvp0IXrIM5Q"
      },
      "execution_count": null,
      "outputs": []
    },
    {
      "cell_type": "code",
      "source": [
        "len(G.nodes)"
      ],
      "metadata": {
        "id": "NnYZjnfaWMvT"
      },
      "execution_count": null,
      "outputs": []
    },
    {
      "cell_type": "code",
      "source": [
        "len(G.edges)"
      ],
      "metadata": {
        "id": "hX_rXxDKZg7H"
      },
      "execution_count": null,
      "outputs": []
    },
    {
      "cell_type": "code",
      "source": [
        "#filter nodes with degree greater than 2\n",
        "#core decompo = 3\n",
        "core = [node for node, drg in dict(G.degree()).items() if drg > 1000 ]\n",
        "#degrees = [drg for node, drg in dict(G.degree()).items() if drg > 700 ]"
      ],
      "metadata": {
        "id": "V6sm6-269DJQ"
      },
      "execution_count": null,
      "outputs": []
    },
    {
      "cell_type": "code",
      "source": [
        "subgraf_g = nx.subgraph(G,core)"
      ],
      "metadata": {
        "id": "z7V-G2Mj_6CS"
      },
      "execution_count": null,
      "outputs": []
    },
    {
      "cell_type": "code",
      "source": [
        "print(f'Nodes: {len(subgraf_g)} edges: {nx.number_of_edges(subgraf_g)}')"
      ],
      "metadata": {
        "id": "IzwR7RzqR3eo"
      },
      "execution_count": null,
      "outputs": []
    },
    {
      "cell_type": "code",
      "source": [
        "nx.write_graphml(G, \"network_analysis.graphml\")"
      ],
      "metadata": {
        "id": "fcQxA6j52v1a"
      },
      "execution_count": null,
      "outputs": []
    },
    {
      "cell_type": "code",
      "source": [
        "nx.write_graphml(subgraf_g, \"network_analysis_subgraf.graphml\")"
      ],
      "metadata": {
        "id": "T4btk94NLqBT"
      },
      "execution_count": null,
      "outputs": []
    },
    {
      "cell_type": "markdown",
      "source": [
        "## Gerando o gráfico com o Pyvis"
      ],
      "metadata": {
        "id": "4gc9d3HLxTM8"
      }
    },
    {
      "cell_type": "code",
      "execution_count": null,
      "metadata": {
        "id": "aBQPZul0nwkF"
      },
      "outputs": [],
      "source": [
        "nt = Network('500px', '100%', notebook=True, cdn_resources='in_line')\n",
        "nt.from_nx(G)\n",
        "nt.show('grafico.html')\n",
        "display(HTML('grafico.html'))"
      ]
    },
    {
      "cell_type": "markdown",
      "source": [
        "# Obtendo os dados pedidos na máteria"
      ],
      "metadata": {
        "id": "s0ve0kP_zrPe"
      }
    },
    {
      "cell_type": "markdown",
      "source": [
        "## Obtendo a matriz de adjacência"
      ],
      "metadata": {
        "id": "E4jDlsJkxK1_"
      }
    },
    {
      "cell_type": "code",
      "execution_count": null,
      "metadata": {
        "id": "jPHqTCGGwlT3"
      },
      "outputs": [],
      "source": [
        "adj_matrix = nx.to_pandas_adjacency(G)\n",
        "\n",
        "plt.imshow(adj_matrix, cmap='binary', origin='upper')\n",
        "plt.xlabel('Nós')\n",
        "plt.ylabel('Nós')\n",
        "plt.title('Matriz de Adjacência')\n",
        "plt.colorbar()\n",
        "plt.show()"
      ]
    },
    {
      "cell_type": "markdown",
      "source": [
        "## Calcular o diâmetro"
      ],
      "metadata": {
        "id": "ndCZGMlewyVA"
      }
    },
    {
      "cell_type": "code",
      "source": [
        "diameter = nx.diameter(G)\n",
        "print(\"Diâmetro: \", diameter)"
      ],
      "metadata": {
        "id": "86ZtmX_TNWge"
      },
      "execution_count": null,
      "outputs": []
    },
    {
      "cell_type": "markdown",
      "source": [
        "## Calcular a periferia"
      ],
      "metadata": {
        "id": "H7KYatHTw2vh"
      }
    },
    {
      "cell_type": "code",
      "source": [
        "periphery = nx.periphery(G)\n",
        "\n",
        "print(\"Periferia: \", periphery)"
      ],
      "metadata": {
        "id": "fl0h_zqPw3_B"
      },
      "execution_count": null,
      "outputs": []
    },
    {
      "cell_type": "markdown",
      "source": [
        " ## Histograma de distribuição empírica de grau."
      ],
      "metadata": {
        "id": "dDbPtbxgw9Rc"
      }
    },
    {
      "cell_type": "code",
      "source": [
        "hist = nx.degree_histogram(G)\n",
        "degrees = list(range(len(hist)))\n",
        "frequencies = hist\n",
        "\n",
        "nt = Network(height=\"500px\", width=\"100%\", notebook=True,cdn_resources='in_line')\n",
        "nt.from_nx(G)\n",
        "\n",
        "for degree, freq in zip(degrees, frequencies):\n",
        "    nt.add_node(degree, size=freq)\n",
        "\n",
        "nt.show(\"histograma.html\")\n",
        "display(HTML('histograma.html'))"
      ],
      "metadata": {
        "id": "UFOo2ZIhOSSI"
      },
      "execution_count": null,
      "outputs": []
    },
    {
      "cell_type": "markdown",
      "source": [
        "## Coeficiente de clustering local para nós escolhidos.\n",
        "\n"
      ],
      "metadata": {
        "id": "dqKrDiZows5J"
      }
    },
    {
      "cell_type": "code",
      "source": [
        "coefs_clustering = nx.clustering(G, [1969527638])\n",
        "coefs_clustering"
      ],
      "metadata": {
        "id": "MxjQpD1LSf0i"
      },
      "execution_count": null,
      "outputs": []
    },
    {
      "cell_type": "markdown",
      "source": [
        "## Calcular o coeficiente de clustering global"
      ],
      "metadata": {
        "id": "lHj4fEU_wqBU"
      }
    },
    {
      "cell_type": "code",
      "source": [
        "coef_clustering = nx.average_clustering(G)\n",
        "coef_clustering"
      ],
      "metadata": {
        "id": "B9KNXOuSvcZq"
      },
      "execution_count": null,
      "outputs": []
    },
    {
      "cell_type": "markdown",
      "source": [
        "## Encontrar os componentes conectados fortemente"
      ],
      "metadata": {
        "id": "BZ8sYC7ZwoP9"
      }
    },
    {
      "cell_type": "code",
      "source": [
        "componentes_fortemente = nx.strongly_connected_components(G)\n",
        "componentes_fortemente"
      ],
      "metadata": {
        "id": "mWUjTaaDvz9Z"
      },
      "execution_count": null,
      "outputs": []
    },
    {
      "cell_type": "markdown",
      "source": [
        "## Encontrar os componentes conectados fracamente"
      ],
      "metadata": {
        "id": "KEUrmbl7wlIU"
      }
    },
    {
      "cell_type": "code",
      "source": [
        "componentes_fracamente = nx.weakly_connected_components(G)\n",
        "componentes_fracamente"
      ],
      "metadata": {
        "id": "fGXv8H8ZwJvw"
      },
      "execution_count": null,
      "outputs": []
    },
    {
      "cell_type": "markdown",
      "source": [
        "## Calcular a centralidade de grau"
      ],
      "metadata": {
        "id": "u0k_h6EJwd_s"
      }
    },
    {
      "cell_type": "code",
      "source": [
        "centrality = nx.degree_centrality(G)\n",
        "\n",
        "for node, centrality_value in centrality.items():\n",
        "    print(\"Nó:\", node, \"Centralidade de Grau: \", centrality_value)"
      ],
      "metadata": {
        "id": "_m0XDEpjwc73"
      },
      "execution_count": null,
      "outputs": []
    },
    {
      "cell_type": "markdown",
      "source": [
        "## Calcular a centralidade de proximidade"
      ],
      "metadata": {
        "id": "hB5m59KF0XXb"
      }
    },
    {
      "cell_type": "code",
      "source": [
        "centrality = nx.closeness_centrality(G)\n",
        "\n",
        "for node, centrality_value in centrality.items():\n",
        "    print(\"Nó:\", node, \"Centralidade de Proximidade: \", centrality_value)"
      ],
      "metadata": {
        "id": "hFR7_J8J0WMF"
      },
      "execution_count": null,
      "outputs": []
    },
    {
      "cell_type": "markdown",
      "source": [
        "## Calcular o Betweenness centrality"
      ],
      "metadata": {
        "id": "3HGjUqhW0baL"
      }
    },
    {
      "cell_type": "code",
      "source": [
        "centrality = nx.betweenness_centrality(G)\n",
        "\n",
        "for node, centrality_value in centrality.items():\n",
        "    print(\"Nó:\", node, \"Centralidade de Intermediação: \", centrality_value)"
      ],
      "metadata": {
        "id": "WyYrf8ZM0hAH"
      },
      "execution_count": null,
      "outputs": []
    },
    {
      "cell_type": "markdown",
      "source": [
        "## Calcular a centralidade de eigenvector"
      ],
      "metadata": {
        "id": "eTUtWjik0y8G"
      }
    },
    {
      "cell_type": "code",
      "source": [
        "centrality = nx.eigenvector_centrality(G)\n",
        "\n",
        "for node, centrality_value in centrality.items():\n",
        "    print(\"Nó:\", node, \"Centralidade de Eigenvector: \", centrality_value)"
      ],
      "metadata": {
        "id": "KzFRfpLX0xLS"
      },
      "execution_count": null,
      "outputs": []
    },
    {
      "cell_type": "markdown",
      "source": [
        "## Calcular a assortatividade geral"
      ],
      "metadata": {
        "id": "K5vzT_RK1Y2Y"
      }
    },
    {
      "cell_type": "code",
      "source": [
        "assortativity = nx.degree_assortativity_coefficient(G)\n",
        "assortativity"
      ],
      "metadata": {
        "id": "IGk89FVS1Zfm"
      },
      "execution_count": null,
      "outputs": []
    }
  ],
  "metadata": {
    "colab": {
      "provenance": [],
      "machine_shape": "hm",
      "gpuType": "A100",
      "include_colab_link": true
    },
    "kernelspec": {
      "display_name": "Python 3",
      "name": "python3"
    },
    "language_info": {
      "name": "python"
    }
  },
  "nbformat": 4,
  "nbformat_minor": 0
}